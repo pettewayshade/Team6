{
 "cells": [
  {
   "cell_type": "code",
   "execution_count": 13,
   "metadata": {},
   "outputs": [],
   "source": [
    "import os\n",
    "import pandas as pd\n",
    "import csv\n",
    "from census import Census\n",
    "from us import states\n",
    "from apikey import apikey\n",
    "import requests\n",
    "\n",
    "c = Census(apikey, year=2017)"
   ]
  },
  {
   "cell_type": "code",
   "execution_count": 14,
   "metadata": {},
   "outputs": [
    {
     "name": "stdout",
     "output_type": "stream",
     "text": [
      "48\n"
     ]
    }
   ],
   "source": [
    "print (states.TX.fips)\n",
    "#school_data = pd.read_csv(\"County_Data.csv\", encoding = \"ISO-8859-1\")\n",
    "#school_data.head()"
   ]
  },
  {
   "cell_type": "code",
   "execution_count": 15,
   "metadata": {},
   "outputs": [
    {
     "data": {
      "text/html": [
       "<div>\n",
       "<style scoped>\n",
       "    .dataframe tbody tr th:only-of-type {\n",
       "        vertical-align: middle;\n",
       "    }\n",
       "\n",
       "    .dataframe tbody tr th {\n",
       "        vertical-align: top;\n",
       "    }\n",
       "\n",
       "    .dataframe thead th {\n",
       "        text-align: right;\n",
       "    }\n",
       "</style>\n",
       "<table border=\"1\" class=\"dataframe\">\n",
       "  <thead>\n",
       "    <tr style=\"text-align: right;\">\n",
       "      <th></th>\n",
       "      <th>NAME</th>\n",
       "      <th>county</th>\n",
       "      <th>state</th>\n",
       "    </tr>\n",
       "  </thead>\n",
       "  <tbody>\n",
       "    <tr>\n",
       "      <th>0</th>\n",
       "      <td>Hunt County, Texas</td>\n",
       "      <td>231</td>\n",
       "      <td>48</td>\n",
       "    </tr>\n",
       "    <tr>\n",
       "      <th>1</th>\n",
       "      <td>Parker County, Texas</td>\n",
       "      <td>367</td>\n",
       "      <td>48</td>\n",
       "    </tr>\n",
       "    <tr>\n",
       "      <th>2</th>\n",
       "      <td>Collin County, Texas</td>\n",
       "      <td>085</td>\n",
       "      <td>48</td>\n",
       "    </tr>\n",
       "    <tr>\n",
       "      <th>3</th>\n",
       "      <td>Rockwall County, Texas</td>\n",
       "      <td>397</td>\n",
       "      <td>48</td>\n",
       "    </tr>\n",
       "    <tr>\n",
       "      <th>4</th>\n",
       "      <td>Tarrant County, Texas</td>\n",
       "      <td>439</td>\n",
       "      <td>48</td>\n",
       "    </tr>\n",
       "  </tbody>\n",
       "</table>\n",
       "</div>"
      ],
      "text/plain": [
       "                     NAME county state\n",
       "0      Hunt County, Texas    231    48\n",
       "1    Parker County, Texas    367    48\n",
       "2    Collin County, Texas    085    48\n",
       "3  Rockwall County, Texas    397    48\n",
       "4   Tarrant County, Texas    439    48"
      ]
     },
     "execution_count": 15,
     "metadata": {},
     "output_type": "execute_result"
    }
   ],
   "source": [
    "#census_data = c.acs5.get('NAME', geo={'for': 'county:*', 'in': 'state:%s' % states.TX.fips})\n",
    "census_data = c.acs5.get('NAME', geo={'for': 'county:121,085,231,397,257,139,251,113,221,367,497,439', 'in': 'state:%s' % states.TX.fips})\n",
    "\n",
    "county_pd = pd.DataFrame(census_data)\n",
    "county_pd.head()\n"
   ]
  },
  {
   "cell_type": "code",
   "execution_count": null,
   "metadata": {},
   "outputs": [],
   "source": [
    "K202002_001E    Median earnings in the past 12 months\n",
    "K202503_002E    Owner\n",
    "K202503_003E    Renter\n",
    "K201001_001E    Marital Status\n",
    "K201501_001E    Education\n",
    "\n",
    "NAME,S0101_C01_001E\n",
    "S2404_C01_001E\n",
    "K201501_001E\n"
   ]
  },
  {
   "cell_type": "code",
   "execution_count": 36,
   "metadata": {},
   "outputs": [
    {
     "name": "stdout",
     "output_type": "stream",
     "text": [
      "https://api.census.gov/data/2017/acs/acs5/subject?get=S2404_C01_001E,NAME&for=county:231&in=state:48&key=796694672f39b924a3c4f866da3a9d893742be9a\n",
      "[['S2404_C01_001E', 'NAME', 'state', 'county'], ['27395', 'Hunt County, Texas', '48', '231']]\n",
      "https://api.census.gov/data/2017/acs/acs5/subject?get=S2404_C01_001E,NAME&for=county:367&in=state:48&key=796694672f39b924a3c4f866da3a9d893742be9a\n",
      "[['S2404_C01_001E', 'NAME', 'state', 'county'], ['44048', 'Parker County, Texas', '48', '367']]\n",
      "https://api.census.gov/data/2017/acs/acs5/subject?get=S2404_C01_001E,NAME&for=county:085&in=state:48&key=796694672f39b924a3c4f866da3a9d893742be9a\n",
      "[['S2404_C01_001E', 'NAME', 'state', 'county'], ['361165', 'Collin County, Texas', '48', '085']]\n",
      "https://api.census.gov/data/2017/acs/acs5/subject?get=S2404_C01_001E,NAME&for=county:397&in=state:48&key=796694672f39b924a3c4f866da3a9d893742be9a\n",
      "[['S2404_C01_001E', 'NAME', 'state', 'county'], ['33699', 'Rockwall County, Texas', '48', '397']]\n",
      "https://api.census.gov/data/2017/acs/acs5/subject?get=S2404_C01_001E,NAME&for=county:439&in=state:48&key=796694672f39b924a3c4f866da3a9d893742be9a\n",
      "[['S2404_C01_001E', 'NAME', 'state', 'county'], ['716785', 'Tarrant County, Texas', '48', '439']]\n",
      "https://api.census.gov/data/2017/acs/acs5/subject?get=S2404_C01_001E,NAME&for=county:139&in=state:48&key=796694672f39b924a3c4f866da3a9d893742be9a\n",
      "[['S2404_C01_001E', 'NAME', 'state', 'county'], ['58114', 'Ellis County, Texas', '48', '139']]\n",
      "https://api.census.gov/data/2017/acs/acs5/subject?get=S2404_C01_001E,NAME&for=county:497&in=state:48&key=796694672f39b924a3c4f866da3a9d893742be9a\n",
      "[['S2404_C01_001E', 'NAME', 'state', 'county'], ['20749', 'Wise County, Texas', '48', '497']]\n",
      "https://api.census.gov/data/2017/acs/acs5/subject?get=S2404_C01_001E,NAME&for=county:257&in=state:48&key=796694672f39b924a3c4f866da3a9d893742be9a\n",
      "[['S2404_C01_001E', 'NAME', 'state', 'county'], ['39565', 'Kaufman County, Texas', '48', '257']]\n",
      "https://api.census.gov/data/2017/acs/acs5/subject?get=S2404_C01_001E,NAME&for=county:121&in=state:48&key=796694672f39b924a3c4f866da3a9d893742be9a\n",
      "[['S2404_C01_001E', 'NAME', 'state', 'county'], ['308184', 'Denton County, Texas', '48', '121']]\n",
      "https://api.census.gov/data/2017/acs/acs5/subject?get=S2404_C01_001E,NAME&for=county:113&in=state:48&key=796694672f39b924a3c4f866da3a9d893742be9a\n",
      "[['S2404_C01_001E', 'NAME', 'state', 'county'], ['928834', 'Dallas County, Texas', '48', '113']]\n",
      "https://api.census.gov/data/2017/acs/acs5/subject?get=S2404_C01_001E,NAME&for=county:251&in=state:48&key=796694672f39b924a3c4f866da3a9d893742be9a\n",
      "[['S2404_C01_001E', 'NAME', 'state', 'county'], ['55736', 'Johnson County, Texas', '48', '251']]\n",
      "https://api.census.gov/data/2017/acs/acs5/subject?get=S2404_C01_001E,NAME&for=county:221&in=state:48&key=796694672f39b924a3c4f866da3a9d893742be9a\n",
      "[['S2404_C01_001E', 'NAME', 'state', 'county'], ['16770', 'Hood County, Texas', '48', '221']]\n"
     ]
    }
   ],
   "source": [
    "baseUrl = \"https://api.census.gov/data/2017/acs/acs5/subject?get=\"\n",
    "baseUrl2 = \"https://api.census.gov/data/2017/acs/acsse?get=\"\n",
    "\n",
    "\n",
    "for countyid in county_pd['county']: \n",
    "    targetUrl = (baseUrl + \"S2404_C01_001E,NAME\" + \"&for=county:\" +\n",
    "                           countyid + \"&in=state:48\" + \"&key=\" + apikey)\n",
    "    resp = requests.get(targetUrl).json()\n",
    "    print (targetUrl)    \n",
    "    print(resp)  \n",
    "    \n",
    "    "
   ]
  },
  {
   "cell_type": "code",
   "execution_count": 42,
   "metadata": {},
   "outputs": [
    {
     "name": "stdout",
     "output_type": "stream",
     "text": [
      "https://api.census.gov/data/2017/acs/acsse?get=K202503_002E,NAME&for=county:231&in=state:48&key=796694672f39b924a3c4f866da3a9d893742be9a\n",
      "[['K202503_002E', 'NAME', 'state', 'county'], ['64565', 'Hunt County, Texas', '48', '231']]\n",
      "https://api.census.gov/data/2017/acs/acsse?get=K202503_002E,NAME&for=county:367&in=state:48&key=796694672f39b924a3c4f866da3a9d893742be9a\n",
      "[['K202503_002E', 'NAME', 'state', 'county'], ['106949', 'Parker County, Texas', '48', '367']]\n",
      "https://api.census.gov/data/2017/acs/acsse?get=K202503_002E,NAME&for=county:085&in=state:48&key=796694672f39b924a3c4f866da3a9d893742be9a\n",
      "[['K202503_002E', 'NAME', 'state', 'county'], ['665040', 'Collin County, Texas', '48', '085']]\n",
      "https://api.census.gov/data/2017/acs/acsse?get=K202503_002E,NAME&for=county:397&in=state:48&key=796694672f39b924a3c4f866da3a9d893742be9a\n",
      "[['K202503_002E', 'NAME', 'state', 'county'], ['81035', 'Rockwall County, Texas', '48', '397']]\n",
      "https://api.census.gov/data/2017/acs/acsse?get=K202503_002E,NAME&for=county:439&in=state:48&key=796694672f39b924a3c4f866da3a9d893742be9a\n",
      "[['K202503_002E', 'NAME', 'state', 'county'], ['1300652', 'Tarrant County, Texas', '48', '439']]\n",
      "https://api.census.gov/data/2017/acs/acsse?get=K202503_002E,NAME&for=county:139&in=state:48&key=796694672f39b924a3c4f866da3a9d893742be9a\n",
      "[['K202503_002E', 'NAME', 'state', 'county'], ['130247', 'Ellis County, Texas', '48', '139']]\n",
      "https://api.census.gov/data/2017/acs/acsse?get=K202503_002E,NAME&for=county:497&in=state:48&key=796694672f39b924a3c4f866da3a9d893742be9a\n",
      "[['K202503_002E', 'NAME', 'state', 'county'], ['50042', 'Wise County, Texas', '48', '497']]\n",
      "https://api.census.gov/data/2017/acs/acsse?get=K202503_002E,NAME&for=county:257&in=state:48&key=796694672f39b924a3c4f866da3a9d893742be9a\n",
      "[['K202503_002E', 'NAME', 'state', 'county'], ['97537', 'Kaufman County, Texas', '48', '257']]\n",
      "https://api.census.gov/data/2017/acs/acsse?get=K202503_002E,NAME&for=county:121&in=state:48&key=796694672f39b924a3c4f866da3a9d893742be9a\n",
      "[['K202503_002E', 'NAME', 'state', 'county'], ['579415', 'Denton County, Texas', '48', '121']]\n",
      "https://api.census.gov/data/2017/acs/acsse?get=K202503_002E,NAME&for=county:113&in=state:48&key=796694672f39b924a3c4f866da3a9d893742be9a\n",
      "[['K202503_002E', 'NAME', 'state', 'county'], ['1392954', 'Dallas County, Texas', '48', '113']]\n",
      "https://api.census.gov/data/2017/acs/acsse?get=K202503_002E,NAME&for=county:251&in=state:48&key=796694672f39b924a3c4f866da3a9d893742be9a\n",
      "[['K202503_002E', 'NAME', 'state', 'county'], ['124558', 'Johnson County, Texas', '48', '251']]\n",
      "https://api.census.gov/data/2017/acs/acsse?get=K202503_002E,NAME&for=county:221&in=state:48&key=796694672f39b924a3c4f866da3a9d893742be9a\n",
      "[['K202503_002E', 'NAME', 'state', 'county'], ['44759', 'Hood County, Texas', '48', '221']]\n"
     ]
    }
   ],
   "source": [
    "# Home owners number\n",
    "for countyid in county_pd['county']: \n",
    "    targetUrl = (baseUrl2 + \"K202503_002E,NAME\" + \"&for=county:\" +\n",
    "                           countyid + \"&in=state:48\" + \"&key=\" + apikey)\n",
    "    resp = requests.get(targetUrl).json()\n",
    "    print (targetUrl)    \n",
    "    print(resp)  "
   ]
  },
  {
   "cell_type": "code",
   "execution_count": 43,
   "metadata": {},
   "outputs": [
    {
     "name": "stdout",
     "output_type": "stream",
     "text": [
      "https://api.census.gov/data/2017/acs/acsse?get=K202503_003E,NAME&for=county:231&in=state:48&key=796694672f39b924a3c4f866da3a9d893742be9a\n",
      "[['K202503_003E', 'NAME', 'state', 'county'], ['26438', 'Hunt County, Texas', '48', '231']]\n",
      "https://api.census.gov/data/2017/acs/acsse?get=K202503_003E,NAME&for=county:367&in=state:48&key=796694672f39b924a3c4f866da3a9d893742be9a\n",
      "[['K202503_003E', 'NAME', 'state', 'county'], ['24700', 'Parker County, Texas', '48', '367']]\n",
      "https://api.census.gov/data/2017/acs/acsse?get=K202503_003E,NAME&for=county:085&in=state:48&key=796694672f39b924a3c4f866da3a9d893742be9a\n",
      "[['K202503_003E', 'NAME', 'state', 'county'], ['301277', 'Collin County, Texas', '48', '085']]\n",
      "https://api.census.gov/data/2017/acs/acsse?get=K202503_003E,NAME&for=county:397&in=state:48&key=796694672f39b924a3c4f866da3a9d893742be9a\n",
      "[['K202503_003E', 'NAME', 'state', 'county'], ['15124', 'Rockwall County, Texas', '48', '397']]\n",
      "https://api.census.gov/data/2017/acs/acsse?get=K202503_003E,NAME&for=county:439&in=state:48&key=796694672f39b924a3c4f866da3a9d893742be9a\n",
      "[['K202503_003E', 'NAME', 'state', 'county'], ['728517', 'Tarrant County, Texas', '48', '439']]\n",
      "https://api.census.gov/data/2017/acs/acsse?get=K202503_003E,NAME&for=county:139&in=state:48&key=796694672f39b924a3c4f866da3a9d893742be9a\n",
      "[['K202503_003E', 'NAME', 'state', 'county'], ['41512', 'Ellis County, Texas', '48', '139']]\n",
      "https://api.census.gov/data/2017/acs/acsse?get=K202503_003E,NAME&for=county:497&in=state:48&key=796694672f39b924a3c4f866da3a9d893742be9a\n",
      "[['K202503_003E', 'NAME', 'state', 'county'], ['15105', 'Wise County, Texas', '48', '497']]\n",
      "https://api.census.gov/data/2017/acs/acsse?get=K202503_003E,NAME&for=county:257&in=state:48&key=796694672f39b924a3c4f866da3a9d893742be9a\n",
      "[['K202503_003E', 'NAME', 'state', 'county'], ['23768', 'Kaufman County, Texas', '48', '257']]\n",
      "https://api.census.gov/data/2017/acs/acsse?get=K202503_003E,NAME&for=county:121&in=state:48&key=796694672f39b924a3c4f866da3a9d893742be9a\n",
      "[['K202503_003E', 'NAME', 'state', 'county'], ['244764', 'Denton County, Texas', '48', '121']]\n",
      "https://api.census.gov/data/2017/acs/acsse?get=K202503_003E,NAME&for=county:113&in=state:48&key=796694672f39b924a3c4f866da3a9d893742be9a\n",
      "[['K202503_003E', 'NAME', 'state', 'county'], ['1194085', 'Dallas County, Texas', '48', '113']]\n",
      "https://api.census.gov/data/2017/acs/acsse?get=K202503_003E,NAME&for=county:251&in=state:48&key=796694672f39b924a3c4f866da3a9d893742be9a\n",
      "[['K202503_003E', 'NAME', 'state', 'county'], ['39913', 'Johnson County, Texas', '48', '251']]\n",
      "https://api.census.gov/data/2017/acs/acsse?get=K202503_003E,NAME&for=county:221&in=state:48&key=796694672f39b924a3c4f866da3a9d893742be9a\n",
      "[['K202503_003E', 'NAME', 'state', 'county'], ['12757', 'Hood County, Texas', '48', '221']]\n"
     ]
    }
   ],
   "source": [
    "# Renters number\n",
    "for countyid in county_pd['county']: \n",
    "    targetUrl = (baseUrl2 + \"K202503_003E,NAME\" + \"&for=county:\" +\n",
    "                           countyid + \"&in=state:48\" + \"&key=\" + apikey)\n",
    "    resp = requests.get(targetUrl).json()\n",
    "    print (targetUrl)    \n",
    "    print(resp) "
   ]
  },
  {
   "cell_type": "code",
   "execution_count": 45,
   "metadata": {},
   "outputs": [
    {
     "name": "stdout",
     "output_type": "stream",
     "text": [
      "https://api.census.gov/data/2017/acs/acsse?get=K202002_001E,NAME&for=county:231&in=state:48&key=796694672f39b924a3c4f866da3a9d893742be9a\n",
      "[['K202002_001E', 'NAME', 'state', 'county'], ['33664', 'Hunt County, Texas', '48', '231']]\n",
      "https://api.census.gov/data/2017/acs/acsse?get=K202002_001E,NAME&for=county:367&in=state:48&key=796694672f39b924a3c4f866da3a9d893742be9a\n",
      "[['K202002_001E', 'NAME', 'state', 'county'], ['35129', 'Parker County, Texas', '48', '367']]\n",
      "https://api.census.gov/data/2017/acs/acsse?get=K202002_001E,NAME&for=county:085&in=state:48&key=796694672f39b924a3c4f866da3a9d893742be9a\n",
      "[['K202002_001E', 'NAME', 'state', 'county'], ['50212', 'Collin County, Texas', '48', '085']]\n",
      "https://api.census.gov/data/2017/acs/acsse?get=K202002_001E,NAME&for=county:397&in=state:48&key=796694672f39b924a3c4f866da3a9d893742be9a\n",
      "[['K202002_001E', 'NAME', 'state', 'county'], ['50215', 'Rockwall County, Texas', '48', '397']]\n",
      "https://api.census.gov/data/2017/acs/acsse?get=K202002_001E,NAME&for=county:439&in=state:48&key=796694672f39b924a3c4f866da3a9d893742be9a\n",
      "[['K202002_001E', 'NAME', 'state', 'county'], ['36216', 'Tarrant County, Texas', '48', '439']]\n",
      "https://api.census.gov/data/2017/acs/acsse?get=K202002_001E,NAME&for=county:139&in=state:48&key=796694672f39b924a3c4f866da3a9d893742be9a\n",
      "[['K202002_001E', 'NAME', 'state', 'county'], ['37201', 'Ellis County, Texas', '48', '139']]\n",
      "https://api.census.gov/data/2017/acs/acsse?get=K202002_001E,NAME&for=county:497&in=state:48&key=796694672f39b924a3c4f866da3a9d893742be9a\n",
      "[['K202002_001E', 'NAME', 'state', 'county'], ['30706', 'Wise County, Texas', '48', '497']]\n",
      "https://api.census.gov/data/2017/acs/acsse?get=K202002_001E,NAME&for=county:257&in=state:48&key=796694672f39b924a3c4f866da3a9d893742be9a\n",
      "[['K202002_001E', 'NAME', 'state', 'county'], ['36480', 'Kaufman County, Texas', '48', '257']]\n",
      "https://api.census.gov/data/2017/acs/acsse?get=K202002_001E,NAME&for=county:121&in=state:48&key=796694672f39b924a3c4f866da3a9d893742be9a\n",
      "[['K202002_001E', 'NAME', 'state', 'county'], ['43250', 'Denton County, Texas', '48', '121']]\n",
      "https://api.census.gov/data/2017/acs/acsse?get=K202002_001E,NAME&for=county:113&in=state:48&key=796694672f39b924a3c4f866da3a9d893742be9a\n",
      "[['K202002_001E', 'NAME', 'state', 'county'], ['32275', 'Dallas County, Texas', '48', '113']]\n",
      "https://api.census.gov/data/2017/acs/acsse?get=K202002_001E,NAME&for=county:251&in=state:48&key=796694672f39b924a3c4f866da3a9d893742be9a\n",
      "[['K202002_001E', 'NAME', 'state', 'county'], ['37424', 'Johnson County, Texas', '48', '251']]\n",
      "https://api.census.gov/data/2017/acs/acsse?get=K202002_001E,NAME&for=county:221&in=state:48&key=796694672f39b924a3c4f866da3a9d893742be9a\n",
      "[['K202002_001E', 'NAME', 'state', 'county'], ['35828', 'Hood County, Texas', '48', '221']]\n"
     ]
    }
   ],
   "source": [
    "#Estimate!!Median earnings in the past 12 months (in 2017 Inflation-adjusted dollars)!!Total (dollars)\n",
    "for countyid in county_pd['county']: \n",
    "    targetUrl = (baseUrl2 + \"K202002_001E,NAME\" + \"&for=county:\" +\n",
    "                           countyid + \"&in=state:48\" + \"&key=\" + apikey)\n",
    "    resp = requests.get(targetUrl).json()\n",
    "    print (targetUrl)    \n",
    "    print(resp)"
   ]
  },
  {
   "cell_type": "code",
   "execution_count": 46,
   "metadata": {},
   "outputs": [
    {
     "name": "stdout",
     "output_type": "stream",
     "text": [
      "https://api.census.gov/data/2017/acs/acsse?get=K201001_001E,NAME&for=county:231&in=state:48&key=796694672f39b924a3c4f866da3a9d893742be9a\n",
      "[['K201001_001E', 'NAME', 'state', 'county'], ['75087', 'Hunt County, Texas', '48', '231']]\n",
      "https://api.census.gov/data/2017/acs/acsse?get=K201001_001E,NAME&for=county:367&in=state:48&key=796694672f39b924a3c4f866da3a9d893742be9a\n",
      "[['K201001_001E', 'NAME', 'state', 'county'], ['106767', 'Parker County, Texas', '48', '367']]\n",
      "https://api.census.gov/data/2017/acs/acsse?get=K201001_001E,NAME&for=county:085&in=state:48&key=796694672f39b924a3c4f866da3a9d893742be9a\n",
      "[['K201001_001E', 'NAME', 'state', 'county'], ['760920', 'Collin County, Texas', '48', '085']]\n",
      "https://api.census.gov/data/2017/acs/acsse?get=K201001_001E,NAME&for=county:397&in=state:48&key=796694672f39b924a3c4f866da3a9d893742be9a\n",
      "[['K201001_001E', 'NAME', 'state', 'county'], ['75858', 'Rockwall County, Texas', '48', '397']]\n",
      "https://api.census.gov/data/2017/acs/acsse?get=K201001_001E,NAME&for=county:439&in=state:48&key=796694672f39b924a3c4f866da3a9d893742be9a\n",
      "[['K201001_001E', 'NAME', 'state', 'county'], ['1600866', 'Tarrant County, Texas', '48', '439']]\n",
      "https://api.census.gov/data/2017/acs/acsse?get=K201001_001E,NAME&for=county:139&in=state:48&key=796694672f39b924a3c4f866da3a9d893742be9a\n",
      "[['K201001_001E', 'NAME', 'state', 'county'], ['135260', 'Ellis County, Texas', '48', '139']]\n",
      "https://api.census.gov/data/2017/acs/acsse?get=K201001_001E,NAME&for=county:497&in=state:48&key=796694672f39b924a3c4f866da3a9d893742be9a\n",
      "[['K201001_001E', 'NAME', 'state', 'county'], ['52852', 'Wise County, Texas', '48', '497']]\n",
      "https://api.census.gov/data/2017/acs/acsse?get=K201001_001E,NAME&for=county:257&in=state:48&key=796694672f39b924a3c4f866da3a9d893742be9a\n",
      "[['K201001_001E', 'NAME', 'state', 'county'], ['94327', 'Kaufman County, Texas', '48', '257']]\n",
      "https://api.census.gov/data/2017/acs/acsse?get=K201001_001E,NAME&for=county:121&in=state:48&key=796694672f39b924a3c4f866da3a9d893742be9a\n",
      "[['K201001_001E', 'NAME', 'state', 'county'], ['662965', 'Denton County, Texas', '48', '121']]\n",
      "https://api.census.gov/data/2017/acs/acsse?get=K201001_001E,NAME&for=county:113&in=state:48&key=796694672f39b924a3c4f866da3a9d893742be9a\n",
      "[['K201001_001E', 'NAME', 'state', 'county'], ['2037627', 'Dallas County, Texas', '48', '113']]\n",
      "https://api.census.gov/data/2017/acs/acsse?get=K201001_001E,NAME&for=county:251&in=state:48&key=796694672f39b924a3c4f866da3a9d893742be9a\n",
      "[['K201001_001E', 'NAME', 'state', 'county'], ['131321', 'Johnson County, Texas', '48', '251']]\n",
      "https://api.census.gov/data/2017/acs/acsse?get=K201001_001E,NAME&for=county:221&in=state:48&key=796694672f39b924a3c4f866da3a9d893742be9a\n",
      "[['K201001_001E', 'NAME', 'state', 'county'], ['47778', 'Hood County, Texas', '48', '221']]\n"
     ]
    }
   ],
   "source": [
    "#MARITAL STATUS FOR THE POPULATION 15 YEARS AND OVER\n",
    "for countyid in county_pd['county']: \n",
    "    targetUrl = (baseUrl2 + \"K201001_001E,NAME\" + \"&for=county:\" +\n",
    "                           countyid + \"&in=state:48\" + \"&key=\" + apikey)\n",
    "    resp = requests.get(targetUrl).json()\n",
    "    print (targetUrl)    \n",
    "    print(resp)"
   ]
  },
  {
   "cell_type": "code",
   "execution_count": null,
   "metadata": {},
   "outputs": [],
   "source": []
  }
 ],
 "metadata": {
  "kernelspec": {
   "display_name": "Python 3",
   "language": "python",
   "name": "python3"
  },
  "language_info": {
   "codemirror_mode": {
    "name": "ipython",
    "version": 3
   },
   "file_extension": ".py",
   "mimetype": "text/x-python",
   "name": "python",
   "nbconvert_exporter": "python",
   "pygments_lexer": "ipython3",
   "version": "3.6.5"
  }
 },
 "nbformat": 4,
 "nbformat_minor": 2
}
