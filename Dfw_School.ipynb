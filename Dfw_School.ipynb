{
 "cells": [
  {
   "cell_type": "code",
   "execution_count": 64,
   "metadata": {},
   "outputs": [],
   "source": [
    "import os\n",
    "import pandas as pd\n",
    "import csv\n",
    "from census import Census\n",
    "from us import states\n",
    "from apikey import apikey\n",
    "import requests\n",
    "\n",
    "c = Census(apikey, year=2017)"
   ]
  },
  {
   "cell_type": "code",
   "execution_count": 65,
   "metadata": {},
   "outputs": [
    {
     "name": "stdout",
     "output_type": "stream",
     "text": [
      "48\n"
     ]
    }
   ],
   "source": [
    "print (states.TX.fips)"
   ]
  },
  {
   "cell_type": "code",
   "execution_count": 66,
   "metadata": {},
   "outputs": [
    {
     "data": {
      "text/html": [
       "<div>\n",
       "<style scoped>\n",
       "    .dataframe tbody tr th:only-of-type {\n",
       "        vertical-align: middle;\n",
       "    }\n",
       "\n",
       "    .dataframe tbody tr th {\n",
       "        vertical-align: top;\n",
       "    }\n",
       "\n",
       "    .dataframe thead th {\n",
       "        text-align: right;\n",
       "    }\n",
       "</style>\n",
       "<table border=\"1\" class=\"dataframe\">\n",
       "  <thead>\n",
       "    <tr style=\"text-align: right;\">\n",
       "      <th></th>\n",
       "      <th>NAME</th>\n",
       "      <th>county</th>\n",
       "      <th>state</th>\n",
       "    </tr>\n",
       "  </thead>\n",
       "  <tbody>\n",
       "    <tr>\n",
       "      <th>0</th>\n",
       "      <td>Hunt County, Texas</td>\n",
       "      <td>231</td>\n",
       "      <td>48</td>\n",
       "    </tr>\n",
       "    <tr>\n",
       "      <th>1</th>\n",
       "      <td>Parker County, Texas</td>\n",
       "      <td>367</td>\n",
       "      <td>48</td>\n",
       "    </tr>\n",
       "    <tr>\n",
       "      <th>2</th>\n",
       "      <td>Collin County, Texas</td>\n",
       "      <td>085</td>\n",
       "      <td>48</td>\n",
       "    </tr>\n",
       "    <tr>\n",
       "      <th>3</th>\n",
       "      <td>Rockwall County, Texas</td>\n",
       "      <td>397</td>\n",
       "      <td>48</td>\n",
       "    </tr>\n",
       "    <tr>\n",
       "      <th>4</th>\n",
       "      <td>Tarrant County, Texas</td>\n",
       "      <td>439</td>\n",
       "      <td>48</td>\n",
       "    </tr>\n",
       "  </tbody>\n",
       "</table>\n",
       "</div>"
      ],
      "text/plain": [
       "                     NAME county state\n",
       "0      Hunt County, Texas    231    48\n",
       "1    Parker County, Texas    367    48\n",
       "2    Collin County, Texas    085    48\n",
       "3  Rockwall County, Texas    397    48\n",
       "4   Tarrant County, Texas    439    48"
      ]
     },
     "execution_count": 66,
     "metadata": {},
     "output_type": "execute_result"
    }
   ],
   "source": [
    "census_data = c.acs5.get('NAME', geo={'for': 'county:121,085,231,397,257,139,251,113,221,367,497,439', 'in': 'state:%s' % states.TX.fips})\n",
    "\n",
    "county_pd = pd.DataFrame(census_data)\n",
    "county_pd.head()"
   ]
  },
  {
   "cell_type": "code",
   "execution_count": 67,
   "metadata": {},
   "outputs": [],
   "source": [
    "#K202002_001E    Median earnings in the past 12 months\n",
    "#K202503_002E    Owner\n",
    "#K202503_003E    Renter\n",
    "#K201001_001E    Marital Status\n",
    "#K201501_001E    Education\n",
    "\n",
    "#NAME,S0101_C01_001E\n",
    "#S2404_C01_001E\n",
    "#K201501_001E"
   ]
  },
  {
   "cell_type": "code",
   "execution_count": 59,
   "metadata": {},
   "outputs": [],
   "source": [
    "baseUrl = \"https://api.census.gov/data/2017/acs/acs5/subject?get=\"\n",
    "baseUrl2 = \"https://api.census.gov/data/2017/acs/acsse?get=\"\n",
    "\n",
    "#census ids\n",
    "ids = [\"K202002_001E\", \"K202503_002E\", \n",
    "       \"K202503_003E\", \"K201001_001E\",\n",
    "       \"K201501_001E\"]\n",
    "\n",
    "columns = ['County', 'Median Earnings', '# of Home Owners',\n",
    "          '# of Renters', '# of Married', \"Education\"]\n",
    "\n",
    "censusDf = pd.DataFrame(columns=columns)\n",
    "\n",
    "\n",
    "#for countyid in county_pd['county']: \n",
    "#    targetUrl = (baseUrl + \"S2404_C01_001E,NAME\" + \"&for=county:\" +\n",
    "#                           countyid + \"&in=state:48\" + \"&key=\" + apikey)\n",
    "#    resp = requests.get(targetUrl).json()\n",
    "#    print (targetUrl)    \n",
    "#    print(resp)  \n",
    "    \n",
    "    "
   ]
  },
  {
   "cell_type": "code",
   "execution_count": 68,
   "metadata": {},
   "outputs": [
    {
     "name": "stdout",
     "output_type": "stream",
     "text": [
      "https://api.census.gov/data/2017/acs/acsse?get=K202002_001E,NAME&for=county:231&in=state:48&key=796694672f39b924a3c4f866da3a9d893742be9a\n",
      "[['K202002_001E', 'NAME', 'state', 'county'], ['33664', 'Hunt County, Texas', '48', '231']]\n",
      "https://api.census.gov/data/2017/acs/acsse?get=K202503_002E,NAME&for=county:231&in=state:48&key=796694672f39b924a3c4f866da3a9d893742be9a\n",
      "[['K202503_002E', 'NAME', 'state', 'county'], ['64565', 'Hunt County, Texas', '48', '231']]\n",
      "https://api.census.gov/data/2017/acs/acsse?get=K202503_003E,NAME&for=county:231&in=state:48&key=796694672f39b924a3c4f866da3a9d893742be9a\n",
      "[['K202503_003E', 'NAME', 'state', 'county'], ['26438', 'Hunt County, Texas', '48', '231']]\n",
      "https://api.census.gov/data/2017/acs/acsse?get=K201001_001E,NAME&for=county:231&in=state:48&key=796694672f39b924a3c4f866da3a9d893742be9a\n",
      "[['K201001_001E', 'NAME', 'state', 'county'], ['75087', 'Hunt County, Texas', '48', '231']]\n",
      "https://api.census.gov/data/2017/acs/acsse?get=K201501_001E,NAME&for=county:231&in=state:48&key=796694672f39b924a3c4f866da3a9d893742be9a\n",
      "[['K201501_001E', 'NAME', 'state', 'county'], ['61557', 'Hunt County, Texas', '48', '231']]\n",
      "https://api.census.gov/data/2017/acs/acsse?get=K202002_001E,NAME&for=county:367&in=state:48&key=796694672f39b924a3c4f866da3a9d893742be9a\n",
      "[['K202002_001E', 'NAME', 'state', 'county'], ['35129', 'Parker County, Texas', '48', '367']]\n",
      "https://api.census.gov/data/2017/acs/acsse?get=K202503_002E,NAME&for=county:367&in=state:48&key=796694672f39b924a3c4f866da3a9d893742be9a\n",
      "[['K202503_002E', 'NAME', 'state', 'county'], ['106949', 'Parker County, Texas', '48', '367']]\n",
      "https://api.census.gov/data/2017/acs/acsse?get=K202503_003E,NAME&for=county:367&in=state:48&key=796694672f39b924a3c4f866da3a9d893742be9a\n",
      "[['K202503_003E', 'NAME', 'state', 'county'], ['24700', 'Parker County, Texas', '48', '367']]\n",
      "https://api.census.gov/data/2017/acs/acsse?get=K201001_001E,NAME&for=county:367&in=state:48&key=796694672f39b924a3c4f866da3a9d893742be9a\n",
      "[['K201001_001E', 'NAME', 'state', 'county'], ['106767', 'Parker County, Texas', '48', '367']]\n",
      "https://api.census.gov/data/2017/acs/acsse?get=K201501_001E,NAME&for=county:367&in=state:48&key=796694672f39b924a3c4f866da3a9d893742be9a\n",
      "[['K201501_001E', 'NAME', 'state', 'county'], ['90367', 'Parker County, Texas', '48', '367']]\n",
      "https://api.census.gov/data/2017/acs/acsse?get=K202002_001E,NAME&for=county:085&in=state:48&key=796694672f39b924a3c4f866da3a9d893742be9a\n",
      "[['K202002_001E', 'NAME', 'state', 'county'], ['50212', 'Collin County, Texas', '48', '085']]\n",
      "https://api.census.gov/data/2017/acs/acsse?get=K202503_002E,NAME&for=county:085&in=state:48&key=796694672f39b924a3c4f866da3a9d893742be9a\n",
      "[['K202503_002E', 'NAME', 'state', 'county'], ['665040', 'Collin County, Texas', '48', '085']]\n",
      "https://api.census.gov/data/2017/acs/acsse?get=K202503_003E,NAME&for=county:085&in=state:48&key=796694672f39b924a3c4f866da3a9d893742be9a\n",
      "[['K202503_003E', 'NAME', 'state', 'county'], ['301277', 'Collin County, Texas', '48', '085']]\n",
      "https://api.census.gov/data/2017/acs/acsse?get=K201001_001E,NAME&for=county:085&in=state:48&key=796694672f39b924a3c4f866da3a9d893742be9a\n",
      "[['K201001_001E', 'NAME', 'state', 'county'], ['760920', 'Collin County, Texas', '48', '085']]\n",
      "https://api.census.gov/data/2017/acs/acsse?get=K201501_001E,NAME&for=county:085&in=state:48&key=796694672f39b924a3c4f866da3a9d893742be9a\n",
      "[['K201501_001E', 'NAME', 'state', 'county'], ['635534', 'Collin County, Texas', '48', '085']]\n",
      "https://api.census.gov/data/2017/acs/acsse?get=K202002_001E,NAME&for=county:397&in=state:48&key=796694672f39b924a3c4f866da3a9d893742be9a\n",
      "[['K202002_001E', 'NAME', 'state', 'county'], ['50215', 'Rockwall County, Texas', '48', '397']]\n",
      "https://api.census.gov/data/2017/acs/acsse?get=K202503_002E,NAME&for=county:397&in=state:48&key=796694672f39b924a3c4f866da3a9d893742be9a\n",
      "[['K202503_002E', 'NAME', 'state', 'county'], ['81035', 'Rockwall County, Texas', '48', '397']]\n",
      "https://api.census.gov/data/2017/acs/acsse?get=K202503_003E,NAME&for=county:397&in=state:48&key=796694672f39b924a3c4f866da3a9d893742be9a\n",
      "[['K202503_003E', 'NAME', 'state', 'county'], ['15124', 'Rockwall County, Texas', '48', '397']]\n",
      "https://api.census.gov/data/2017/acs/acsse?get=K201001_001E,NAME&for=county:397&in=state:48&key=796694672f39b924a3c4f866da3a9d893742be9a\n",
      "[['K201001_001E', 'NAME', 'state', 'county'], ['75858', 'Rockwall County, Texas', '48', '397']]\n",
      "https://api.census.gov/data/2017/acs/acsse?get=K201501_001E,NAME&for=county:397&in=state:48&key=796694672f39b924a3c4f866da3a9d893742be9a\n",
      "[['K201501_001E', 'NAME', 'state', 'county'], ['63099', 'Rockwall County, Texas', '48', '397']]\n",
      "https://api.census.gov/data/2017/acs/acsse?get=K202002_001E,NAME&for=county:439&in=state:48&key=796694672f39b924a3c4f866da3a9d893742be9a\n",
      "[['K202002_001E', 'NAME', 'state', 'county'], ['36216', 'Tarrant County, Texas', '48', '439']]\n",
      "https://api.census.gov/data/2017/acs/acsse?get=K202503_002E,NAME&for=county:439&in=state:48&key=796694672f39b924a3c4f866da3a9d893742be9a\n",
      "[['K202503_002E', 'NAME', 'state', 'county'], ['1300652', 'Tarrant County, Texas', '48', '439']]\n",
      "https://api.census.gov/data/2017/acs/acsse?get=K202503_003E,NAME&for=county:439&in=state:48&key=796694672f39b924a3c4f866da3a9d893742be9a\n",
      "[['K202503_003E', 'NAME', 'state', 'county'], ['728517', 'Tarrant County, Texas', '48', '439']]\n",
      "https://api.census.gov/data/2017/acs/acsse?get=K201001_001E,NAME&for=county:439&in=state:48&key=796694672f39b924a3c4f866da3a9d893742be9a\n",
      "[['K201001_001E', 'NAME', 'state', 'county'], ['1600866', 'Tarrant County, Texas', '48', '439']]\n",
      "https://api.census.gov/data/2017/acs/acsse?get=K201501_001E,NAME&for=county:439&in=state:48&key=796694672f39b924a3c4f866da3a9d893742be9a\n",
      "[['K201501_001E', 'NAME', 'state', 'county'], ['1317559', 'Tarrant County, Texas', '48', '439']]\n",
      "https://api.census.gov/data/2017/acs/acsse?get=K202002_001E,NAME&for=county:139&in=state:48&key=796694672f39b924a3c4f866da3a9d893742be9a\n",
      "[['K202002_001E', 'NAME', 'state', 'county'], ['37201', 'Ellis County, Texas', '48', '139']]\n",
      "https://api.census.gov/data/2017/acs/acsse?get=K202503_002E,NAME&for=county:139&in=state:48&key=796694672f39b924a3c4f866da3a9d893742be9a\n",
      "[['K202503_002E', 'NAME', 'state', 'county'], ['130247', 'Ellis County, Texas', '48', '139']]\n",
      "https://api.census.gov/data/2017/acs/acsse?get=K202503_003E,NAME&for=county:139&in=state:48&key=796694672f39b924a3c4f866da3a9d893742be9a\n",
      "[['K202503_003E', 'NAME', 'state', 'county'], ['41512', 'Ellis County, Texas', '48', '139']]\n",
      "https://api.census.gov/data/2017/acs/acsse?get=K201001_001E,NAME&for=county:139&in=state:48&key=796694672f39b924a3c4f866da3a9d893742be9a\n",
      "[['K201001_001E', 'NAME', 'state', 'county'], ['135260', 'Ellis County, Texas', '48', '139']]\n",
      "https://api.census.gov/data/2017/acs/acsse?get=K201501_001E,NAME&for=county:139&in=state:48&key=796694672f39b924a3c4f866da3a9d893742be9a\n",
      "[['K201501_001E', 'NAME', 'state', 'county'], ['111660', 'Ellis County, Texas', '48', '139']]\n",
      "https://api.census.gov/data/2017/acs/acsse?get=K202002_001E,NAME&for=county:497&in=state:48&key=796694672f39b924a3c4f866da3a9d893742be9a\n",
      "[['K202002_001E', 'NAME', 'state', 'county'], ['30706', 'Wise County, Texas', '48', '497']]\n",
      "https://api.census.gov/data/2017/acs/acsse?get=K202503_002E,NAME&for=county:497&in=state:48&key=796694672f39b924a3c4f866da3a9d893742be9a\n",
      "[['K202503_002E', 'NAME', 'state', 'county'], ['50042', 'Wise County, Texas', '48', '497']]\n",
      "https://api.census.gov/data/2017/acs/acsse?get=K202503_003E,NAME&for=county:497&in=state:48&key=796694672f39b924a3c4f866da3a9d893742be9a\n",
      "[['K202503_003E', 'NAME', 'state', 'county'], ['15105', 'Wise County, Texas', '48', '497']]\n",
      "https://api.census.gov/data/2017/acs/acsse?get=K201001_001E,NAME&for=county:497&in=state:48&key=796694672f39b924a3c4f866da3a9d893742be9a\n",
      "[['K201001_001E', 'NAME', 'state', 'county'], ['52852', 'Wise County, Texas', '48', '497']]\n",
      "https://api.census.gov/data/2017/acs/acsse?get=K201501_001E,NAME&for=county:497&in=state:48&key=796694672f39b924a3c4f866da3a9d893742be9a\n",
      "[['K201501_001E', 'NAME', 'state', 'county'], ['44568', 'Wise County, Texas', '48', '497']]\n",
      "https://api.census.gov/data/2017/acs/acsse?get=K202002_001E,NAME&for=county:257&in=state:48&key=796694672f39b924a3c4f866da3a9d893742be9a\n",
      "[['K202002_001E', 'NAME', 'state', 'county'], ['36480', 'Kaufman County, Texas', '48', '257']]\n"
     ]
    },
    {
     "name": "stdout",
     "output_type": "stream",
     "text": [
      "https://api.census.gov/data/2017/acs/acsse?get=K202503_002E,NAME&for=county:257&in=state:48&key=796694672f39b924a3c4f866da3a9d893742be9a\n",
      "[['K202503_002E', 'NAME', 'state', 'county'], ['97537', 'Kaufman County, Texas', '48', '257']]\n",
      "https://api.census.gov/data/2017/acs/acsse?get=K202503_003E,NAME&for=county:257&in=state:48&key=796694672f39b924a3c4f866da3a9d893742be9a\n",
      "[['K202503_003E', 'NAME', 'state', 'county'], ['23768', 'Kaufman County, Texas', '48', '257']]\n",
      "https://api.census.gov/data/2017/acs/acsse?get=K201001_001E,NAME&for=county:257&in=state:48&key=796694672f39b924a3c4f866da3a9d893742be9a\n",
      "[['K201001_001E', 'NAME', 'state', 'county'], ['94327', 'Kaufman County, Texas', '48', '257']]\n",
      "https://api.census.gov/data/2017/acs/acsse?get=K201501_001E,NAME&for=county:257&in=state:48&key=796694672f39b924a3c4f866da3a9d893742be9a\n",
      "[['K201501_001E', 'NAME', 'state', 'county'], ['78533', 'Kaufman County, Texas', '48', '257']]\n",
      "https://api.census.gov/data/2017/acs/acsse?get=K202002_001E,NAME&for=county:121&in=state:48&key=796694672f39b924a3c4f866da3a9d893742be9a\n",
      "[['K202002_001E', 'NAME', 'state', 'county'], ['43250', 'Denton County, Texas', '48', '121']]\n",
      "https://api.census.gov/data/2017/acs/acsse?get=K202503_002E,NAME&for=county:121&in=state:48&key=796694672f39b924a3c4f866da3a9d893742be9a\n",
      "[['K202503_002E', 'NAME', 'state', 'county'], ['579415', 'Denton County, Texas', '48', '121']]\n",
      "https://api.census.gov/data/2017/acs/acsse?get=K202503_003E,NAME&for=county:121&in=state:48&key=796694672f39b924a3c4f866da3a9d893742be9a\n",
      "[['K202503_003E', 'NAME', 'state', 'county'], ['244764', 'Denton County, Texas', '48', '121']]\n",
      "https://api.census.gov/data/2017/acs/acsse?get=K201001_001E,NAME&for=county:121&in=state:48&key=796694672f39b924a3c4f866da3a9d893742be9a\n",
      "[['K201001_001E', 'NAME', 'state', 'county'], ['662965', 'Denton County, Texas', '48', '121']]\n",
      "https://api.census.gov/data/2017/acs/acsse?get=K201501_001E,NAME&for=county:121&in=state:48&key=796694672f39b924a3c4f866da3a9d893742be9a\n",
      "[['K201501_001E', 'NAME', 'state', 'county'], ['547898', 'Denton County, Texas', '48', '121']]\n",
      "https://api.census.gov/data/2017/acs/acsse?get=K202002_001E,NAME&for=county:113&in=state:48&key=796694672f39b924a3c4f866da3a9d893742be9a\n",
      "[['K202002_001E', 'NAME', 'state', 'county'], ['32275', 'Dallas County, Texas', '48', '113']]\n",
      "https://api.census.gov/data/2017/acs/acsse?get=K202503_002E,NAME&for=county:113&in=state:48&key=796694672f39b924a3c4f866da3a9d893742be9a\n",
      "[['K202503_002E', 'NAME', 'state', 'county'], ['1392954', 'Dallas County, Texas', '48', '113']]\n",
      "https://api.census.gov/data/2017/acs/acsse?get=K202503_003E,NAME&for=county:113&in=state:48&key=796694672f39b924a3c4f866da3a9d893742be9a\n",
      "[['K202503_003E', 'NAME', 'state', 'county'], ['1194085', 'Dallas County, Texas', '48', '113']]\n"
     ]
    },
    {
     "ename": "JSONDecodeError",
     "evalue": "Expecting value: line 1 column 1 (char 0)",
     "output_type": "error",
     "traceback": [
      "\u001b[0;31m---------------------------------------------------------------------------\u001b[0m",
      "\u001b[0;31mJSONDecodeError\u001b[0m                           Traceback (most recent call last)",
      "\u001b[0;32m<ipython-input-68-82d09438a557>\u001b[0m in \u001b[0;36m<module>\u001b[0;34m()\u001b[0m\n\u001b[1;32m      4\u001b[0m         targetUrl = (baseUrl2 + item + \",NAME\" + \"&for=county:\" +\n\u001b[1;32m      5\u001b[0m                            countyid + \"&in=state:48\" + \"&key=\" + apikey)\n\u001b[0;32m----> 6\u001b[0;31m         \u001b[0mresp\u001b[0m \u001b[0;34m=\u001b[0m \u001b[0mrequests\u001b[0m\u001b[0;34m.\u001b[0m\u001b[0mget\u001b[0m\u001b[0;34m(\u001b[0m\u001b[0mtargetUrl\u001b[0m\u001b[0;34m)\u001b[0m\u001b[0;34m.\u001b[0m\u001b[0mjson\u001b[0m\u001b[0;34m(\u001b[0m\u001b[0;34m)\u001b[0m\u001b[0;34m\u001b[0m\u001b[0m\n\u001b[0m\u001b[1;32m      7\u001b[0m         \u001b[0mprint\u001b[0m \u001b[0;34m(\u001b[0m\u001b[0mtargetUrl\u001b[0m\u001b[0;34m)\u001b[0m\u001b[0;34m\u001b[0m\u001b[0m\n\u001b[1;32m      8\u001b[0m         \u001b[0mprint\u001b[0m\u001b[0;34m(\u001b[0m\u001b[0mresp\u001b[0m\u001b[0;34m)\u001b[0m\u001b[0;34m\u001b[0m\u001b[0m\n",
      "\u001b[0;32m/Library/anaconda3/lib/python3.6/site-packages/requests/models.py\u001b[0m in \u001b[0;36mjson\u001b[0;34m(self, **kwargs)\u001b[0m\n\u001b[1;32m    890\u001b[0m                     \u001b[0;31m# used.\u001b[0m\u001b[0;34m\u001b[0m\u001b[0;34m\u001b[0m\u001b[0m\n\u001b[1;32m    891\u001b[0m                     \u001b[0;32mpass\u001b[0m\u001b[0;34m\u001b[0m\u001b[0m\n\u001b[0;32m--> 892\u001b[0;31m         \u001b[0;32mreturn\u001b[0m \u001b[0mcomplexjson\u001b[0m\u001b[0;34m.\u001b[0m\u001b[0mloads\u001b[0m\u001b[0;34m(\u001b[0m\u001b[0mself\u001b[0m\u001b[0;34m.\u001b[0m\u001b[0mtext\u001b[0m\u001b[0;34m,\u001b[0m \u001b[0;34m**\u001b[0m\u001b[0mkwargs\u001b[0m\u001b[0;34m)\u001b[0m\u001b[0;34m\u001b[0m\u001b[0m\n\u001b[0m\u001b[1;32m    893\u001b[0m \u001b[0;34m\u001b[0m\u001b[0m\n\u001b[1;32m    894\u001b[0m     \u001b[0;34m@\u001b[0m\u001b[0mproperty\u001b[0m\u001b[0;34m\u001b[0m\u001b[0m\n",
      "\u001b[0;32m/Library/anaconda3/lib/python3.6/json/__init__.py\u001b[0m in \u001b[0;36mloads\u001b[0;34m(s, encoding, cls, object_hook, parse_float, parse_int, parse_constant, object_pairs_hook, **kw)\u001b[0m\n\u001b[1;32m    352\u001b[0m             \u001b[0mparse_int\u001b[0m \u001b[0;32mis\u001b[0m \u001b[0;32mNone\u001b[0m \u001b[0;32mand\u001b[0m \u001b[0mparse_float\u001b[0m \u001b[0;32mis\u001b[0m \u001b[0;32mNone\u001b[0m \u001b[0;32mand\u001b[0m\u001b[0;34m\u001b[0m\u001b[0m\n\u001b[1;32m    353\u001b[0m             parse_constant is None and object_pairs_hook is None and not kw):\n\u001b[0;32m--> 354\u001b[0;31m         \u001b[0;32mreturn\u001b[0m \u001b[0m_default_decoder\u001b[0m\u001b[0;34m.\u001b[0m\u001b[0mdecode\u001b[0m\u001b[0;34m(\u001b[0m\u001b[0ms\u001b[0m\u001b[0;34m)\u001b[0m\u001b[0;34m\u001b[0m\u001b[0m\n\u001b[0m\u001b[1;32m    355\u001b[0m     \u001b[0;32mif\u001b[0m \u001b[0mcls\u001b[0m \u001b[0;32mis\u001b[0m \u001b[0;32mNone\u001b[0m\u001b[0;34m:\u001b[0m\u001b[0;34m\u001b[0m\u001b[0m\n\u001b[1;32m    356\u001b[0m         \u001b[0mcls\u001b[0m \u001b[0;34m=\u001b[0m \u001b[0mJSONDecoder\u001b[0m\u001b[0;34m\u001b[0m\u001b[0m\n",
      "\u001b[0;32m/Library/anaconda3/lib/python3.6/json/decoder.py\u001b[0m in \u001b[0;36mdecode\u001b[0;34m(self, s, _w)\u001b[0m\n\u001b[1;32m    337\u001b[0m \u001b[0;34m\u001b[0m\u001b[0m\n\u001b[1;32m    338\u001b[0m         \"\"\"\n\u001b[0;32m--> 339\u001b[0;31m         \u001b[0mobj\u001b[0m\u001b[0;34m,\u001b[0m \u001b[0mend\u001b[0m \u001b[0;34m=\u001b[0m \u001b[0mself\u001b[0m\u001b[0;34m.\u001b[0m\u001b[0mraw_decode\u001b[0m\u001b[0;34m(\u001b[0m\u001b[0ms\u001b[0m\u001b[0;34m,\u001b[0m \u001b[0midx\u001b[0m\u001b[0;34m=\u001b[0m\u001b[0m_w\u001b[0m\u001b[0;34m(\u001b[0m\u001b[0ms\u001b[0m\u001b[0;34m,\u001b[0m \u001b[0;36m0\u001b[0m\u001b[0;34m)\u001b[0m\u001b[0;34m.\u001b[0m\u001b[0mend\u001b[0m\u001b[0;34m(\u001b[0m\u001b[0;34m)\u001b[0m\u001b[0;34m)\u001b[0m\u001b[0;34m\u001b[0m\u001b[0m\n\u001b[0m\u001b[1;32m    340\u001b[0m         \u001b[0mend\u001b[0m \u001b[0;34m=\u001b[0m \u001b[0m_w\u001b[0m\u001b[0;34m(\u001b[0m\u001b[0ms\u001b[0m\u001b[0;34m,\u001b[0m \u001b[0mend\u001b[0m\u001b[0;34m)\u001b[0m\u001b[0;34m.\u001b[0m\u001b[0mend\u001b[0m\u001b[0;34m(\u001b[0m\u001b[0;34m)\u001b[0m\u001b[0;34m\u001b[0m\u001b[0m\n\u001b[1;32m    341\u001b[0m         \u001b[0;32mif\u001b[0m \u001b[0mend\u001b[0m \u001b[0;34m!=\u001b[0m \u001b[0mlen\u001b[0m\u001b[0;34m(\u001b[0m\u001b[0ms\u001b[0m\u001b[0;34m)\u001b[0m\u001b[0;34m:\u001b[0m\u001b[0;34m\u001b[0m\u001b[0m\n",
      "\u001b[0;32m/Library/anaconda3/lib/python3.6/json/decoder.py\u001b[0m in \u001b[0;36mraw_decode\u001b[0;34m(self, s, idx)\u001b[0m\n\u001b[1;32m    355\u001b[0m             \u001b[0mobj\u001b[0m\u001b[0;34m,\u001b[0m \u001b[0mend\u001b[0m \u001b[0;34m=\u001b[0m \u001b[0mself\u001b[0m\u001b[0;34m.\u001b[0m\u001b[0mscan_once\u001b[0m\u001b[0;34m(\u001b[0m\u001b[0ms\u001b[0m\u001b[0;34m,\u001b[0m \u001b[0midx\u001b[0m\u001b[0;34m)\u001b[0m\u001b[0;34m\u001b[0m\u001b[0m\n\u001b[1;32m    356\u001b[0m         \u001b[0;32mexcept\u001b[0m \u001b[0mStopIteration\u001b[0m \u001b[0;32mas\u001b[0m \u001b[0merr\u001b[0m\u001b[0;34m:\u001b[0m\u001b[0;34m\u001b[0m\u001b[0m\n\u001b[0;32m--> 357\u001b[0;31m             \u001b[0;32mraise\u001b[0m \u001b[0mJSONDecodeError\u001b[0m\u001b[0;34m(\u001b[0m\u001b[0;34m\"Expecting value\"\u001b[0m\u001b[0;34m,\u001b[0m \u001b[0ms\u001b[0m\u001b[0;34m,\u001b[0m \u001b[0merr\u001b[0m\u001b[0;34m.\u001b[0m\u001b[0mvalue\u001b[0m\u001b[0;34m)\u001b[0m \u001b[0;32mfrom\u001b[0m \u001b[0;32mNone\u001b[0m\u001b[0;34m\u001b[0m\u001b[0m\n\u001b[0m\u001b[1;32m    358\u001b[0m         \u001b[0;32mreturn\u001b[0m \u001b[0mobj\u001b[0m\u001b[0;34m,\u001b[0m \u001b[0mend\u001b[0m\u001b[0;34m\u001b[0m\u001b[0m\n",
      "\u001b[0;31mJSONDecodeError\u001b[0m: Expecting value: line 1 column 1 (char 0)"
     ]
    }
   ],
   "source": [
    "# Home owners number\n",
    "for countyid in county_pd['county']:\n",
    "    for item in ids:\n",
    "        targetUrl = (baseUrl2 + item + \",NAME\" + \"&for=county:\" +\n",
    "                           countyid + \"&in=state:48\" + \"&key=\" + apikey)\n",
    "        resp = requests.get(targetUrl).json()\n",
    "        print (targetUrl)    \n",
    "        print(resp)  "
   ]
  },
  {
   "cell_type": "code",
   "execution_count": 43,
   "metadata": {},
   "outputs": [
    {
     "name": "stdout",
     "output_type": "stream",
     "text": [
      "https://api.census.gov/data/2017/acs/acsse?get=K202503_003E,NAME&for=county:231&in=state:48&key=796694672f39b924a3c4f866da3a9d893742be9a\n",
      "[['K202503_003E', 'NAME', 'state', 'county'], ['26438', 'Hunt County, Texas', '48', '231']]\n",
      "https://api.census.gov/data/2017/acs/acsse?get=K202503_003E,NAME&for=county:367&in=state:48&key=796694672f39b924a3c4f866da3a9d893742be9a\n",
      "[['K202503_003E', 'NAME', 'state', 'county'], ['24700', 'Parker County, Texas', '48', '367']]\n",
      "https://api.census.gov/data/2017/acs/acsse?get=K202503_003E,NAME&for=county:085&in=state:48&key=796694672f39b924a3c4f866da3a9d893742be9a\n",
      "[['K202503_003E', 'NAME', 'state', 'county'], ['301277', 'Collin County, Texas', '48', '085']]\n",
      "https://api.census.gov/data/2017/acs/acsse?get=K202503_003E,NAME&for=county:397&in=state:48&key=796694672f39b924a3c4f866da3a9d893742be9a\n",
      "[['K202503_003E', 'NAME', 'state', 'county'], ['15124', 'Rockwall County, Texas', '48', '397']]\n",
      "https://api.census.gov/data/2017/acs/acsse?get=K202503_003E,NAME&for=county:439&in=state:48&key=796694672f39b924a3c4f866da3a9d893742be9a\n",
      "[['K202503_003E', 'NAME', 'state', 'county'], ['728517', 'Tarrant County, Texas', '48', '439']]\n",
      "https://api.census.gov/data/2017/acs/acsse?get=K202503_003E,NAME&for=county:139&in=state:48&key=796694672f39b924a3c4f866da3a9d893742be9a\n",
      "[['K202503_003E', 'NAME', 'state', 'county'], ['41512', 'Ellis County, Texas', '48', '139']]\n",
      "https://api.census.gov/data/2017/acs/acsse?get=K202503_003E,NAME&for=county:497&in=state:48&key=796694672f39b924a3c4f866da3a9d893742be9a\n",
      "[['K202503_003E', 'NAME', 'state', 'county'], ['15105', 'Wise County, Texas', '48', '497']]\n",
      "https://api.census.gov/data/2017/acs/acsse?get=K202503_003E,NAME&for=county:257&in=state:48&key=796694672f39b924a3c4f866da3a9d893742be9a\n",
      "[['K202503_003E', 'NAME', 'state', 'county'], ['23768', 'Kaufman County, Texas', '48', '257']]\n",
      "https://api.census.gov/data/2017/acs/acsse?get=K202503_003E,NAME&for=county:121&in=state:48&key=796694672f39b924a3c4f866da3a9d893742be9a\n",
      "[['K202503_003E', 'NAME', 'state', 'county'], ['244764', 'Denton County, Texas', '48', '121']]\n",
      "https://api.census.gov/data/2017/acs/acsse?get=K202503_003E,NAME&for=county:113&in=state:48&key=796694672f39b924a3c4f866da3a9d893742be9a\n",
      "[['K202503_003E', 'NAME', 'state', 'county'], ['1194085', 'Dallas County, Texas', '48', '113']]\n",
      "https://api.census.gov/data/2017/acs/acsse?get=K202503_003E,NAME&for=county:251&in=state:48&key=796694672f39b924a3c4f866da3a9d893742be9a\n",
      "[['K202503_003E', 'NAME', 'state', 'county'], ['39913', 'Johnson County, Texas', '48', '251']]\n",
      "https://api.census.gov/data/2017/acs/acsse?get=K202503_003E,NAME&for=county:221&in=state:48&key=796694672f39b924a3c4f866da3a9d893742be9a\n",
      "[['K202503_003E', 'NAME', 'state', 'county'], ['12757', 'Hood County, Texas', '48', '221']]\n"
     ]
    }
   ],
   "source": [
    "# Renters number\n",
    "for countyid in county_pd['county']: \n",
    "    targetUrl = (baseUrl2 + \"K202503_003E,NAME\" + \"&for=county:\" +\n",
    "                           countyid + \"&in=state:48\" + \"&key=\" + apikey)\n",
    "    resp = requests.get(targetUrl).json()\n",
    "    print (targetUrl)    \n",
    "    print(resp) "
   ]
  },
  {
   "cell_type": "code",
   "execution_count": 45,
   "metadata": {},
   "outputs": [
    {
     "name": "stdout",
     "output_type": "stream",
     "text": [
      "https://api.census.gov/data/2017/acs/acsse?get=K202002_001E,NAME&for=county:231&in=state:48&key=796694672f39b924a3c4f866da3a9d893742be9a\n",
      "[['K202002_001E', 'NAME', 'state', 'county'], ['33664', 'Hunt County, Texas', '48', '231']]\n",
      "https://api.census.gov/data/2017/acs/acsse?get=K202002_001E,NAME&for=county:367&in=state:48&key=796694672f39b924a3c4f866da3a9d893742be9a\n",
      "[['K202002_001E', 'NAME', 'state', 'county'], ['35129', 'Parker County, Texas', '48', '367']]\n",
      "https://api.census.gov/data/2017/acs/acsse?get=K202002_001E,NAME&for=county:085&in=state:48&key=796694672f39b924a3c4f866da3a9d893742be9a\n",
      "[['K202002_001E', 'NAME', 'state', 'county'], ['50212', 'Collin County, Texas', '48', '085']]\n",
      "https://api.census.gov/data/2017/acs/acsse?get=K202002_001E,NAME&for=county:397&in=state:48&key=796694672f39b924a3c4f866da3a9d893742be9a\n",
      "[['K202002_001E', 'NAME', 'state', 'county'], ['50215', 'Rockwall County, Texas', '48', '397']]\n",
      "https://api.census.gov/data/2017/acs/acsse?get=K202002_001E,NAME&for=county:439&in=state:48&key=796694672f39b924a3c4f866da3a9d893742be9a\n",
      "[['K202002_001E', 'NAME', 'state', 'county'], ['36216', 'Tarrant County, Texas', '48', '439']]\n",
      "https://api.census.gov/data/2017/acs/acsse?get=K202002_001E,NAME&for=county:139&in=state:48&key=796694672f39b924a3c4f866da3a9d893742be9a\n",
      "[['K202002_001E', 'NAME', 'state', 'county'], ['37201', 'Ellis County, Texas', '48', '139']]\n",
      "https://api.census.gov/data/2017/acs/acsse?get=K202002_001E,NAME&for=county:497&in=state:48&key=796694672f39b924a3c4f866da3a9d893742be9a\n",
      "[['K202002_001E', 'NAME', 'state', 'county'], ['30706', 'Wise County, Texas', '48', '497']]\n",
      "https://api.census.gov/data/2017/acs/acsse?get=K202002_001E,NAME&for=county:257&in=state:48&key=796694672f39b924a3c4f866da3a9d893742be9a\n",
      "[['K202002_001E', 'NAME', 'state', 'county'], ['36480', 'Kaufman County, Texas', '48', '257']]\n",
      "https://api.census.gov/data/2017/acs/acsse?get=K202002_001E,NAME&for=county:121&in=state:48&key=796694672f39b924a3c4f866da3a9d893742be9a\n",
      "[['K202002_001E', 'NAME', 'state', 'county'], ['43250', 'Denton County, Texas', '48', '121']]\n",
      "https://api.census.gov/data/2017/acs/acsse?get=K202002_001E,NAME&for=county:113&in=state:48&key=796694672f39b924a3c4f866da3a9d893742be9a\n",
      "[['K202002_001E', 'NAME', 'state', 'county'], ['32275', 'Dallas County, Texas', '48', '113']]\n",
      "https://api.census.gov/data/2017/acs/acsse?get=K202002_001E,NAME&for=county:251&in=state:48&key=796694672f39b924a3c4f866da3a9d893742be9a\n",
      "[['K202002_001E', 'NAME', 'state', 'county'], ['37424', 'Johnson County, Texas', '48', '251']]\n",
      "https://api.census.gov/data/2017/acs/acsse?get=K202002_001E,NAME&for=county:221&in=state:48&key=796694672f39b924a3c4f866da3a9d893742be9a\n",
      "[['K202002_001E', 'NAME', 'state', 'county'], ['35828', 'Hood County, Texas', '48', '221']]\n"
     ]
    }
   ],
   "source": [
    "#Estimate!!Median earnings in the past 12 months (in 2017 Inflation-adjusted dollars)!!Total (dollars)\n",
    "for countyid in county_pd['county']: \n",
    "    targetUrl = (baseUrl2 + \"K202002_001E,NAME\" + \"&for=county:\" +\n",
    "                           countyid + \"&in=state:48\" + \"&key=\" + apikey)\n",
    "    resp = requests.get(targetUrl).json()\n",
    "    print (targetUrl)    \n",
    "    print(resp)"
   ]
  },
  {
   "cell_type": "code",
   "execution_count": 46,
   "metadata": {},
   "outputs": [
    {
     "name": "stdout",
     "output_type": "stream",
     "text": [
      "https://api.census.gov/data/2017/acs/acsse?get=K201001_001E,NAME&for=county:231&in=state:48&key=796694672f39b924a3c4f866da3a9d893742be9a\n",
      "[['K201001_001E', 'NAME', 'state', 'county'], ['75087', 'Hunt County, Texas', '48', '231']]\n",
      "https://api.census.gov/data/2017/acs/acsse?get=K201001_001E,NAME&for=county:367&in=state:48&key=796694672f39b924a3c4f866da3a9d893742be9a\n",
      "[['K201001_001E', 'NAME', 'state', 'county'], ['106767', 'Parker County, Texas', '48', '367']]\n",
      "https://api.census.gov/data/2017/acs/acsse?get=K201001_001E,NAME&for=county:085&in=state:48&key=796694672f39b924a3c4f866da3a9d893742be9a\n",
      "[['K201001_001E', 'NAME', 'state', 'county'], ['760920', 'Collin County, Texas', '48', '085']]\n",
      "https://api.census.gov/data/2017/acs/acsse?get=K201001_001E,NAME&for=county:397&in=state:48&key=796694672f39b924a3c4f866da3a9d893742be9a\n",
      "[['K201001_001E', 'NAME', 'state', 'county'], ['75858', 'Rockwall County, Texas', '48', '397']]\n",
      "https://api.census.gov/data/2017/acs/acsse?get=K201001_001E,NAME&for=county:439&in=state:48&key=796694672f39b924a3c4f866da3a9d893742be9a\n",
      "[['K201001_001E', 'NAME', 'state', 'county'], ['1600866', 'Tarrant County, Texas', '48', '439']]\n",
      "https://api.census.gov/data/2017/acs/acsse?get=K201001_001E,NAME&for=county:139&in=state:48&key=796694672f39b924a3c4f866da3a9d893742be9a\n",
      "[['K201001_001E', 'NAME', 'state', 'county'], ['135260', 'Ellis County, Texas', '48', '139']]\n",
      "https://api.census.gov/data/2017/acs/acsse?get=K201001_001E,NAME&for=county:497&in=state:48&key=796694672f39b924a3c4f866da3a9d893742be9a\n",
      "[['K201001_001E', 'NAME', 'state', 'county'], ['52852', 'Wise County, Texas', '48', '497']]\n",
      "https://api.census.gov/data/2017/acs/acsse?get=K201001_001E,NAME&for=county:257&in=state:48&key=796694672f39b924a3c4f866da3a9d893742be9a\n",
      "[['K201001_001E', 'NAME', 'state', 'county'], ['94327', 'Kaufman County, Texas', '48', '257']]\n",
      "https://api.census.gov/data/2017/acs/acsse?get=K201001_001E,NAME&for=county:121&in=state:48&key=796694672f39b924a3c4f866da3a9d893742be9a\n",
      "[['K201001_001E', 'NAME', 'state', 'county'], ['662965', 'Denton County, Texas', '48', '121']]\n",
      "https://api.census.gov/data/2017/acs/acsse?get=K201001_001E,NAME&for=county:113&in=state:48&key=796694672f39b924a3c4f866da3a9d893742be9a\n",
      "[['K201001_001E', 'NAME', 'state', 'county'], ['2037627', 'Dallas County, Texas', '48', '113']]\n",
      "https://api.census.gov/data/2017/acs/acsse?get=K201001_001E,NAME&for=county:251&in=state:48&key=796694672f39b924a3c4f866da3a9d893742be9a\n",
      "[['K201001_001E', 'NAME', 'state', 'county'], ['131321', 'Johnson County, Texas', '48', '251']]\n",
      "https://api.census.gov/data/2017/acs/acsse?get=K201001_001E,NAME&for=county:221&in=state:48&key=796694672f39b924a3c4f866da3a9d893742be9a\n",
      "[['K201001_001E', 'NAME', 'state', 'county'], ['47778', 'Hood County, Texas', '48', '221']]\n"
     ]
    }
   ],
   "source": [
    "#MARITAL STATUS FOR THE POPULATION 15 YEARS AND OVER\n",
    "for countyid in county_pd['county']: \n",
    "    targetUrl = (baseUrl2 + \"K201001_001E,NAME\" + \"&for=county:\" +\n",
    "                           countyid + \"&in=state:48\" + \"&key=\" + apikey)\n",
    "    resp = requests.get(targetUrl).json()\n",
    "    print (targetUrl)    \n",
    "    print(resp)"
   ]
  },
  {
   "cell_type": "code",
   "execution_count": 47,
   "metadata": {},
   "outputs": [
    {
     "name": "stdout",
     "output_type": "stream",
     "text": [
      "https://api.census.gov/data/2017/acs/acsse?get=K201501_001E,NAME&for=county:231&in=state:48&key=796694672f39b924a3c4f866da3a9d893742be9a\n",
      "[['K201501_001E', 'NAME', 'state', 'county'], ['61557', 'Hunt County, Texas', '48', '231']]\n",
      "https://api.census.gov/data/2017/acs/acsse?get=K201501_001E,NAME&for=county:367&in=state:48&key=796694672f39b924a3c4f866da3a9d893742be9a\n",
      "[['K201501_001E', 'NAME', 'state', 'county'], ['90367', 'Parker County, Texas', '48', '367']]\n",
      "https://api.census.gov/data/2017/acs/acsse?get=K201501_001E,NAME&for=county:085&in=state:48&key=796694672f39b924a3c4f866da3a9d893742be9a\n",
      "[['K201501_001E', 'NAME', 'state', 'county'], ['635534', 'Collin County, Texas', '48', '085']]\n",
      "https://api.census.gov/data/2017/acs/acsse?get=K201501_001E,NAME&for=county:397&in=state:48&key=796694672f39b924a3c4f866da3a9d893742be9a\n",
      "[['K201501_001E', 'NAME', 'state', 'county'], ['63099', 'Rockwall County, Texas', '48', '397']]\n",
      "https://api.census.gov/data/2017/acs/acsse?get=K201501_001E,NAME&for=county:439&in=state:48&key=796694672f39b924a3c4f866da3a9d893742be9a\n",
      "[['K201501_001E', 'NAME', 'state', 'county'], ['1317559', 'Tarrant County, Texas', '48', '439']]\n",
      "https://api.census.gov/data/2017/acs/acsse?get=K201501_001E,NAME&for=county:139&in=state:48&key=796694672f39b924a3c4f866da3a9d893742be9a\n",
      "[['K201501_001E', 'NAME', 'state', 'county'], ['111660', 'Ellis County, Texas', '48', '139']]\n",
      "https://api.census.gov/data/2017/acs/acsse?get=K201501_001E,NAME&for=county:497&in=state:48&key=796694672f39b924a3c4f866da3a9d893742be9a\n",
      "[['K201501_001E', 'NAME', 'state', 'county'], ['44568', 'Wise County, Texas', '48', '497']]\n",
      "https://api.census.gov/data/2017/acs/acsse?get=K201501_001E,NAME&for=county:257&in=state:48&key=796694672f39b924a3c4f866da3a9d893742be9a\n",
      "[['K201501_001E', 'NAME', 'state', 'county'], ['78533', 'Kaufman County, Texas', '48', '257']]\n",
      "https://api.census.gov/data/2017/acs/acsse?get=K201501_001E,NAME&for=county:121&in=state:48&key=796694672f39b924a3c4f866da3a9d893742be9a\n",
      "[['K201501_001E', 'NAME', 'state', 'county'], ['547898', 'Denton County, Texas', '48', '121']]\n",
      "https://api.census.gov/data/2017/acs/acsse?get=K201501_001E,NAME&for=county:113&in=state:48&key=796694672f39b924a3c4f866da3a9d893742be9a\n",
      "[['K201501_001E', 'NAME', 'state', 'county'], ['1676011', 'Dallas County, Texas', '48', '113']]\n",
      "https://api.census.gov/data/2017/acs/acsse?get=K201501_001E,NAME&for=county:251&in=state:48&key=796694672f39b924a3c4f866da3a9d893742be9a\n",
      "[['K201501_001E', 'NAME', 'state', 'county'], ['109599', 'Johnson County, Texas', '48', '251']]\n",
      "https://api.census.gov/data/2017/acs/acsse?get=K201501_001E,NAME&for=county:221&in=state:48&key=796694672f39b924a3c4f866da3a9d893742be9a\n",
      "[['K201501_001E', 'NAME', 'state', 'county'], ['42041', 'Hood County, Texas', '48', '221']]\n"
     ]
    }
   ],
   "source": [
    "#EDUCATIONAL ATTAINMENT FOR THE POPULATION 25 YEARS AND OVER\n",
    "for countyid in county_pd['county']: \n",
    "    targetUrl = (baseUrl2 + \"K201501_001E,NAME\" + \"&for=county:\" +\n",
    "                           countyid + \"&in=state:48\" + \"&key=\" + apikey)\n",
    "    resp = requests.get(targetUrl).json()\n",
    "    print (targetUrl)    \n",
    "    print(resp)"
   ]
  },
  {
   "cell_type": "code",
   "execution_count": null,
   "metadata": {},
   "outputs": [],
   "source": []
  }
 ],
 "metadata": {
  "kernelspec": {
   "display_name": "Python 3",
   "language": "python",
   "name": "python3"
  },
  "language_info": {
   "codemirror_mode": {
    "name": "ipython",
    "version": 3
   },
   "file_extension": ".py",
   "mimetype": "text/x-python",
   "name": "python",
   "nbconvert_exporter": "python",
   "pygments_lexer": "ipython3",
   "version": "3.6.5"
  }
 },
 "nbformat": 4,
 "nbformat_minor": 2
}
