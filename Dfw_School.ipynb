{
 "cells": [
  {
   "cell_type": "code",
   "execution_count": 35,
   "metadata": {},
   "outputs": [],
   "source": [
    "import os\n",
    "import pandas as pd\n",
    "import csv\n",
    "from census import Census\n",
    "from us import states\n",
    "from apikey import apikey\n",
    "\n",
    "c = Census(apikey, year=2017)"
   ]
  },
  {
   "cell_type": "code",
   "execution_count": 36,
   "metadata": {},
   "outputs": [
    {
     "name": "stdout",
     "output_type": "stream",
     "text": [
      "24\n"
     ]
    }
   ],
   "source": [
    "print (states.MD.fips)\n",
    "#school_data = pd.read_csv(\"County_Data.csv\", encoding = \"ISO-8859-1\")\n",
    "#school_data.head()"
   ]
  },
  {
   "cell_type": "code",
   "execution_count": 66,
   "metadata": {},
   "outputs": [
    {
     "data": {
      "text/html": [
       "<div>\n",
       "<style scoped>\n",
       "    .dataframe tbody tr th:only-of-type {\n",
       "        vertical-align: middle;\n",
       "    }\n",
       "\n",
       "    .dataframe tbody tr th {\n",
       "        vertical-align: top;\n",
       "    }\n",
       "\n",
       "    .dataframe thead th {\n",
       "        text-align: right;\n",
       "    }\n",
       "</style>\n",
       "<table border=\"1\" class=\"dataframe\">\n",
       "  <thead>\n",
       "    <tr style=\"text-align: right;\">\n",
       "      <th></th>\n",
       "      <th>NAME</th>\n",
       "      <th>county</th>\n",
       "      <th>state</th>\n",
       "    </tr>\n",
       "  </thead>\n",
       "  <tbody>\n",
       "    <tr>\n",
       "      <th>0</th>\n",
       "      <td>Hunt County, Texas</td>\n",
       "      <td>231</td>\n",
       "      <td>48</td>\n",
       "    </tr>\n",
       "    <tr>\n",
       "      <th>1</th>\n",
       "      <td>Parker County, Texas</td>\n",
       "      <td>367</td>\n",
       "      <td>48</td>\n",
       "    </tr>\n",
       "    <tr>\n",
       "      <th>2</th>\n",
       "      <td>Collin County, Texas</td>\n",
       "      <td>085</td>\n",
       "      <td>48</td>\n",
       "    </tr>\n",
       "    <tr>\n",
       "      <th>3</th>\n",
       "      <td>Rockwall County, Texas</td>\n",
       "      <td>397</td>\n",
       "      <td>48</td>\n",
       "    </tr>\n",
       "    <tr>\n",
       "      <th>4</th>\n",
       "      <td>Tarrant County, Texas</td>\n",
       "      <td>439</td>\n",
       "      <td>48</td>\n",
       "    </tr>\n",
       "  </tbody>\n",
       "</table>\n",
       "</div>"
      ],
      "text/plain": [
       "                     NAME county state\n",
       "0      Hunt County, Texas    231    48\n",
       "1    Parker County, Texas    367    48\n",
       "2    Collin County, Texas    085    48\n",
       "3  Rockwall County, Texas    397    48\n",
       "4   Tarrant County, Texas    439    48"
      ]
     },
     "execution_count": 66,
     "metadata": {},
     "output_type": "execute_result"
    }
   ],
   "source": [
    "#census_data = c.acs5.get('NAME', geo={'for': 'county:*', 'in': 'state:%s' % states.TX.fips})\n",
    "census_data = c.acs5.get('NAME', geo={'for': 'county:121,085,231,397,257,139,251,113,221,367,497,439', 'in': 'state:%s' % states.TX.fips})\n",
    "\n",
    "county_pd = pd.DataFrame(census_data)\n",
    "county_pd.head()\n"
   ]
  },
  {
   "cell_type": "code",
   "execution_count": 18,
   "metadata": {},
   "outputs": [
    {
     "name": "stdout",
     "output_type": "stream",
     "text": [
      "33120\n"
     ]
    },
    {
     "data": {
      "text/html": [
       "<div>\n",
       "<style scoped>\n",
       "    .dataframe tbody tr th:only-of-type {\n",
       "        vertical-align: middle;\n",
       "    }\n",
       "\n",
       "    .dataframe tbody tr th {\n",
       "        vertical-align: top;\n",
       "    }\n",
       "\n",
       "    .dataframe thead th {\n",
       "        text-align: right;\n",
       "    }\n",
       "</style>\n",
       "<table border=\"1\" class=\"dataframe\">\n",
       "  <thead>\n",
       "    <tr style=\"text-align: right;\">\n",
       "      <th></th>\n",
       "      <th>Zipcode</th>\n",
       "      <th>Population</th>\n",
       "      <th>Median Age</th>\n",
       "      <th>Household Income</th>\n",
       "      <th>Per Capita Income</th>\n",
       "      <th>Poverty Count</th>\n",
       "      <th>Poverty Rate</th>\n",
       "    </tr>\n",
       "  </thead>\n",
       "  <tbody>\n",
       "    <tr>\n",
       "      <th>0</th>\n",
       "      <td>00601</td>\n",
       "      <td>17599.0</td>\n",
       "      <td>38.9</td>\n",
       "      <td>11757.0</td>\n",
       "      <td>7041.0</td>\n",
       "      <td>11282.0</td>\n",
       "      <td>64.105915</td>\n",
       "    </tr>\n",
       "    <tr>\n",
       "      <th>1</th>\n",
       "      <td>00602</td>\n",
       "      <td>39209.0</td>\n",
       "      <td>40.9</td>\n",
       "      <td>16190.0</td>\n",
       "      <td>8978.0</td>\n",
       "      <td>20428.0</td>\n",
       "      <td>52.100283</td>\n",
       "    </tr>\n",
       "    <tr>\n",
       "      <th>2</th>\n",
       "      <td>00603</td>\n",
       "      <td>50135.0</td>\n",
       "      <td>40.4</td>\n",
       "      <td>16645.0</td>\n",
       "      <td>10897.0</td>\n",
       "      <td>25176.0</td>\n",
       "      <td>50.216416</td>\n",
       "    </tr>\n",
       "    <tr>\n",
       "      <th>3</th>\n",
       "      <td>00606</td>\n",
       "      <td>6304.0</td>\n",
       "      <td>42.8</td>\n",
       "      <td>13387.0</td>\n",
       "      <td>5960.0</td>\n",
       "      <td>4092.0</td>\n",
       "      <td>64.911168</td>\n",
       "    </tr>\n",
       "    <tr>\n",
       "      <th>4</th>\n",
       "      <td>00610</td>\n",
       "      <td>27590.0</td>\n",
       "      <td>41.4</td>\n",
       "      <td>18741.0</td>\n",
       "      <td>9266.0</td>\n",
       "      <td>12553.0</td>\n",
       "      <td>45.498369</td>\n",
       "    </tr>\n",
       "  </tbody>\n",
       "</table>\n",
       "</div>"
      ],
      "text/plain": [
       "  Zipcode  Population  Median Age  Household Income  Per Capita Income  \\\n",
       "0   00601     17599.0        38.9           11757.0             7041.0   \n",
       "1   00602     39209.0        40.9           16190.0             8978.0   \n",
       "2   00603     50135.0        40.4           16645.0            10897.0   \n",
       "3   00606      6304.0        42.8           13387.0             5960.0   \n",
       "4   00610     27590.0        41.4           18741.0             9266.0   \n",
       "\n",
       "   Poverty Count  Poverty Rate  \n",
       "0        11282.0     64.105915  \n",
       "1        20428.0     52.100283  \n",
       "2        25176.0     50.216416  \n",
       "3         4092.0     64.911168  \n",
       "4        12553.0     45.498369  "
      ]
     },
     "execution_count": 18,
     "metadata": {},
     "output_type": "execute_result"
    }
   ],
   "source": [
    "#census_data = c.acs5.get((\"NAME\", \"B19013_001E\", \"B01003_001E\", \"B01002_001E\",\n",
    "#                          \"B19301_001E\",\n",
    "#                          \"B17001_002E\"), {'for': 'zip code tabulation area:*'})\n",
    "\n",
    "\n",
    "\n",
    "# Convert to DataFrame\n",
    "census_pd = pd.DataFrame(census_data)\n",
    "\n",
    "# Column Reordering\n",
    "census_pd = census_pd.rename(columns={\"B01003_001E\": \"Population\",\n",
    "                                      \"B01002_001E\": \"Median Age\",\n",
    "                                      \"B19013_001E\": \"Household Income\",\n",
    "                                      \"B19301_001E\": \"Per Capita Income\",\n",
    "                                      \"B17001_002E\": \"Poverty Count\",\n",
    "                                      \"NAME\": \"Name\", \"zip code tabulation area\": \"Zipcode\"})\n",
    "\n",
    "# Add in Poverty Rate (Poverty Count / Population)\n",
    "census_pd[\"Poverty Rate\"] = 100 * \\\n",
    "    census_pd[\"Poverty Count\"].astype(\n",
    "        int) / census_pd[\"Population\"].astype(int)\n",
    "\n",
    "# Final DataFrame\n",
    "census_pd = census_pd[[\"Zipcode\", \"Population\", \"Median Age\", \"Household Income\",\n",
    "                       \"Per Capita Income\", \"Poverty Count\", \"Poverty Rate\"]]\n",
    "\n",
    "# Visualize\n",
    "print(len(census_pd))\n",
    "census_pd.head()"
   ]
  },
  {
   "cell_type": "code",
   "execution_count": 16,
   "metadata": {},
   "outputs": [],
   "source": [
    "#school_data_dfw = school_data.loc[school_data['CNTYNAME'].isin(['DENTON COUNTY','COLLIN COUNTY','HUNT COUNTY','ROCKWALL COUNTY','KAUFMAN COUNTY','ELLIS COUNTY','JOHNSON COUNTY','DALLAS COUNTY','SOMMERVILLE COUNTY','HOOD','PARKER COUNTY','WISE COUNTY','TARRANT COUNTY'])]\n",
    "#school_data_dfw"
   ]
  },
  {
   "cell_type": "code",
   "execution_count": null,
   "metadata": {},
   "outputs": [],
   "source": []
  }
 ],
 "metadata": {
  "kernelspec": {
   "display_name": "Python 3",
   "language": "python",
   "name": "python3"
  },
  "language_info": {
   "codemirror_mode": {
    "name": "ipython",
    "version": 3
   },
   "file_extension": ".py",
   "mimetype": "text/x-python",
   "name": "python",
   "nbconvert_exporter": "python",
   "pygments_lexer": "ipython3",
   "version": "3.6.5"
  }
 },
 "nbformat": 4,
 "nbformat_minor": 2
}
